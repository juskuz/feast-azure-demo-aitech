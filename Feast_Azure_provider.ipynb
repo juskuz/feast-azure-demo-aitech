{
  "nbformat": 4,
  "nbformat_minor": 0,
  "metadata": {
    "colab": {
      "name": "Feast Azure provider.ipynb",
      "provenance": [],
      "collapsed_sections": []
    },
    "kernelspec": {
      "name": "python3",
      "display_name": "Python 3"
    },
    "language_info": {
      "name": "python"
    }
  },
  "cells": [
    {
      "cell_type": "markdown",
      "source": [
        "#### Instalacja bibliotek"
      ],
      "metadata": {
        "id": "7q-tS8g5_Hg_"
      }
    },
    {
      "cell_type": "code",
      "execution_count": 1,
      "metadata": {
        "colab": {
          "base_uri": "https://localhost:8080/",
          "height": 1000
        },
        "id": "5SOHW12ZHNfT",
        "outputId": "e868b7ba-ddff-4c29-a2d5-3519012ff36e"
      },
      "outputs": [
        {
          "output_type": "stream",
          "name": "stdout",
          "text": [
            "Requirement already satisfied: pandas in /usr/local/lib/python3.7/dist-packages (1.3.5)\n",
            "Collecting feast-azure-provider\n",
            "  Downloading feast_azure_provider-0.3.0-py3-none-any.whl (14 kB)\n",
            "Collecting azureml-core\n",
            "  Downloading azureml_core-1.41.0.post3-py3-none-any.whl (2.7 MB)\n",
            "\u001b[K     |████████████████████████████████| 2.7 MB 4.1 MB/s \n",
            "\u001b[?25hRequirement already satisfied: pytz>=2017.3 in /usr/local/lib/python3.7/dist-packages (from pandas) (2022.1)\n",
            "Requirement already satisfied: python-dateutil>=2.7.3 in /usr/local/lib/python3.7/dist-packages (from pandas) (2.8.2)\n",
            "Requirement already satisfied: numpy>=1.17.3 in /usr/local/lib/python3.7/dist-packages (from pandas) (1.21.6)\n",
            "Requirement already satisfied: six>=1.5 in /usr/local/lib/python3.7/dist-packages (from python-dateutil>=2.7.3->pandas) (1.15.0)\n",
            "Collecting pyodbc>=4.0.30\n",
            "  Downloading pyodbc-4.0.32.tar.gz (280 kB)\n",
            "\u001b[K     |████████████████████████████████| 280 kB 88.1 MB/s \n",
            "\u001b[?25hCollecting azure-storage-blob>=0.37.0\n",
            "  Downloading azure_storage_blob-12.12.0-py3-none-any.whl (366 kB)\n",
            "\u001b[K     |████████████████████████████████| 366 kB 65.4 MB/s \n",
            "\u001b[?25hRequirement already satisfied: dill==0.3.4 in /usr/local/lib/python3.7/dist-packages (from feast-azure-provider) (0.3.4)\n",
            "Collecting azure-identity>=1.6.1\n",
            "  Downloading azure_identity-1.10.0-py3-none-any.whl (134 kB)\n",
            "\u001b[K     |████████████████████████████████| 134 kB 51.7 MB/s \n",
            "\u001b[?25hRequirement already satisfied: SQLAlchemy>=1.4.19 in /usr/local/lib/python3.7/dist-packages (from feast-azure-provider) (1.4.36)\n",
            "Collecting feast[redis]==0.18.1\n",
            "  Downloading feast-0.18.1-py3-none-any.whl (275 kB)\n",
            "\u001b[K     |████████████████████████████████| 275 kB 57.4 MB/s \n",
            "\u001b[?25hCollecting PyYAML>=5.4.*\n",
            "  Downloading PyYAML-6.0-cp37-cp37m-manylinux_2_5_x86_64.manylinux1_x86_64.manylinux_2_12_x86_64.manylinux2010_x86_64.whl (596 kB)\n",
            "\u001b[K     |████████████████████████████████| 596 kB 66.5 MB/s \n",
            "\u001b[?25hRequirement already satisfied: tabulate==0.8.* in /usr/local/lib/python3.7/dist-packages (from feast[redis]==0.18.1->feast-azure-provider) (0.8.9)\n",
            "Collecting pandavro==1.5.*\n",
            "  Downloading pandavro-1.5.2.tar.gz (3.8 kB)\n",
            "Requirement already satisfied: tensorflow-metadata<2.0.0,>=1.0.0 in /usr/local/lib/python3.7/dist-packages (from feast[redis]==0.18.1->feast-azure-provider) (1.8.0)\n",
            "Collecting toml==0.10.*\n",
            "  Downloading toml-0.10.2-py2.py3-none-any.whl (16 kB)\n",
            "Collecting grpcio-reflection>=1.34.0\n",
            "  Downloading grpcio_reflection-1.46.3-py3-none-any.whl (16 kB)\n",
            "Collecting fastapi>=0.68.0\n",
            "  Downloading fastapi-0.78.0-py3-none-any.whl (54 kB)\n",
            "\u001b[K     |████████████████████████████████| 54 kB 3.4 MB/s \n",
            "\u001b[?25hCollecting mmh3\n",
            "  Downloading mmh3-3.0.0-cp37-cp37m-manylinux2010_x86_64.whl (50 kB)\n",
            "\u001b[K     |████████████████████████████████| 50 kB 8.9 MB/s \n",
            "\u001b[?25hCollecting pydantic>=1.0.0\n",
            "  Downloading pydantic-1.9.1-cp37-cp37m-manylinux_2_17_x86_64.manylinux2014_x86_64.whl (11.1 MB)\n",
            "\u001b[K     |████████████████████████████████| 11.1 MB 50.9 MB/s \n",
            "\u001b[?25hRequirement already satisfied: tenacity>=7.* in /usr/local/lib/python3.7/dist-packages (from feast[redis]==0.18.1->feast-azure-provider) (8.0.1)\n",
            "Requirement already satisfied: Jinja2>=2.0.0 in /usr/local/lib/python3.7/dist-packages (from feast[redis]==0.18.1->feast-azure-provider) (2.11.3)\n",
            "Collecting uvicorn[standard]>=0.14.0\n",
            "  Downloading uvicorn-0.17.6-py3-none-any.whl (53 kB)\n",
            "\u001b[K     |████████████████████████████████| 53 kB 2.5 MB/s \n",
            "\u001b[?25hRequirement already satisfied: jsonschema in /usr/local/lib/python3.7/dist-packages (from feast[redis]==0.18.1->feast-azure-provider) (4.3.3)\n",
            "Requirement already satisfied: google-api-core>=1.23.0 in /usr/local/lib/python3.7/dist-packages (from feast[redis]==0.18.1->feast-azure-provider) (1.31.5)\n",
            "Collecting googleapis-common-protos==1.52.*\n",
            "  Downloading googleapis_common_protos-1.52.0-py2.py3-none-any.whl (100 kB)\n",
            "\u001b[K     |████████████████████████████████| 100 kB 12.7 MB/s \n",
            "\u001b[?25hCollecting proto-plus<1.19.7\n",
            "  Downloading proto_plus-1.19.6-py3-none-any.whl (45 kB)\n",
            "\u001b[K     |████████████████████████████████| 45 kB 3.3 MB/s \n",
            "\u001b[?25hRequirement already satisfied: pyarrow>=4.0.0 in /usr/local/lib/python3.7/dist-packages (from feast[redis]==0.18.1->feast-azure-provider) (6.0.1)\n",
            "Collecting fastavro>=1.1.0\n",
            "  Downloading fastavro-1.4.12-cp37-cp37m-manylinux_2_17_x86_64.manylinux2014_x86_64.whl (2.3 MB)\n",
            "\u001b[K     |████████████████████████████████| 2.3 MB 42.3 MB/s \n",
            "\u001b[?25hCollecting Click==8.*\n",
            "  Downloading click-8.1.3-py3-none-any.whl (96 kB)\n",
            "\u001b[K     |████████████████████████████████| 96 kB 7.1 MB/s \n",
            "\u001b[?25hCollecting colorama>=0.3.9\n",
            "  Downloading colorama-0.4.4-py2.py3-none-any.whl (16 kB)\n",
            "Requirement already satisfied: tqdm==4.* in /usr/local/lib/python3.7/dist-packages (from feast[redis]==0.18.1->feast-azure-provider) (4.64.0)\n",
            "Requirement already satisfied: protobuf>=3.10 in /usr/local/lib/python3.7/dist-packages (from feast[redis]==0.18.1->feast-azure-provider) (3.17.3)\n",
            "Requirement already satisfied: grpcio>=1.34.0 in /usr/local/lib/python3.7/dist-packages (from feast[redis]==0.18.1->feast-azure-provider) (1.46.1)\n",
            "Collecting hiredis>=2.0.0\n",
            "  Downloading hiredis-2.0.0-cp37-cp37m-manylinux2010_x86_64.whl (85 kB)\n",
            "\u001b[K     |████████████████████████████████| 85 kB 4.4 MB/s \n",
            "\u001b[?25hCollecting redis>=4.1.0\n",
            "  Downloading redis-4.3.1-py3-none-any.whl (241 kB)\n",
            "\u001b[K     |████████████████████████████████| 241 kB 84.0 MB/s \n",
            "\u001b[?25hRequirement already satisfied: importlib-metadata in /usr/local/lib/python3.7/dist-packages (from Click==8.*->feast[redis]==0.18.1->feast-azure-provider) (4.11.3)\n",
            "Collecting cryptography>=2.5\n",
            "  Downloading cryptography-37.0.2-cp36-abi3-manylinux_2_24_x86_64.whl (4.0 MB)\n",
            "\u001b[K     |████████████████████████████████| 4.0 MB 45.3 MB/s \n",
            "\u001b[?25hCollecting msal<2.0.0,>=1.12.0\n",
            "  Downloading msal-1.17.0-py2.py3-none-any.whl (79 kB)\n",
            "\u001b[K     |████████████████████████████████| 79 kB 9.4 MB/s \n",
            "\u001b[?25hCollecting azure-core<2.0.0,>=1.11.0\n",
            "  Downloading azure_core-1.24.0-py3-none-any.whl (178 kB)\n",
            "\u001b[K     |████████████████████████████████| 178 kB 64.2 MB/s \n",
            "\u001b[?25hCollecting msal-extensions<2.0.0,>=0.3.0\n",
            "  Downloading msal_extensions-1.0.0-py2.py3-none-any.whl (19 kB)\n",
            "Requirement already satisfied: requests>=2.18.4 in /usr/local/lib/python3.7/dist-packages (from azure-core<2.0.0,>=1.11.0->azure-identity>=1.6.1->feast-azure-provider) (2.23.0)\n",
            "Requirement already satisfied: typing-extensions>=4.0.1 in /usr/local/lib/python3.7/dist-packages (from azure-core<2.0.0,>=1.11.0->azure-identity>=1.6.1->feast-azure-provider) (4.2.0)\n",
            "Collecting msrest>=0.6.21\n",
            "  Downloading msrest-0.6.21-py2.py3-none-any.whl (85 kB)\n",
            "\u001b[K     |████████████████████████████████| 85 kB 5.1 MB/s \n",
            "\u001b[?25hRequirement already satisfied: cffi>=1.12 in /usr/local/lib/python3.7/dist-packages (from cryptography>=2.5->azure-identity>=1.6.1->feast-azure-provider) (1.15.0)\n",
            "Requirement already satisfied: pycparser in /usr/local/lib/python3.7/dist-packages (from cffi>=1.12->cryptography>=2.5->azure-identity>=1.6.1->feast-azure-provider) (2.21)\n",
            "Collecting starlette==0.19.1\n",
            "  Downloading starlette-0.19.1-py3-none-any.whl (63 kB)\n",
            "\u001b[K     |████████████████████████████████| 63 kB 2.4 MB/s \n",
            "\u001b[?25hCollecting anyio<5,>=3.4.0\n",
            "  Downloading anyio-3.6.1-py3-none-any.whl (80 kB)\n",
            "\u001b[K     |████████████████████████████████| 80 kB 11.8 MB/s \n",
            "\u001b[?25hRequirement already satisfied: idna>=2.8 in /usr/local/lib/python3.7/dist-packages (from anyio<5,>=3.4.0->starlette==0.19.1->fastapi>=0.68.0->feast[redis]==0.18.1->feast-azure-provider) (2.10)\n",
            "Collecting sniffio>=1.1\n",
            "  Downloading sniffio-1.2.0-py3-none-any.whl (10 kB)\n",
            "Requirement already satisfied: setuptools>=40.3.0 in /usr/local/lib/python3.7/dist-packages (from google-api-core>=1.23.0->feast[redis]==0.18.1->feast-azure-provider) (57.4.0)\n",
            "Requirement already satisfied: google-auth<2.0dev,>=1.25.0 in /usr/local/lib/python3.7/dist-packages (from google-api-core>=1.23.0->feast[redis]==0.18.1->feast-azure-provider) (1.35.0)\n",
            "Requirement already satisfied: packaging>=14.3 in /usr/local/lib/python3.7/dist-packages (from google-api-core>=1.23.0->feast[redis]==0.18.1->feast-azure-provider) (21.3)\n",
            "Requirement already satisfied: rsa<5,>=3.1.4 in /usr/local/lib/python3.7/dist-packages (from google-auth<2.0dev,>=1.25.0->google-api-core>=1.23.0->feast[redis]==0.18.1->feast-azure-provider) (4.8)\n",
            "Requirement already satisfied: pyasn1-modules>=0.2.1 in /usr/local/lib/python3.7/dist-packages (from google-auth<2.0dev,>=1.25.0->google-api-core>=1.23.0->feast[redis]==0.18.1->feast-azure-provider) (0.2.8)\n",
            "Requirement already satisfied: cachetools<5.0,>=2.0.0 in /usr/local/lib/python3.7/dist-packages (from google-auth<2.0dev,>=1.25.0->google-api-core>=1.23.0->feast[redis]==0.18.1->feast-azure-provider) (4.2.4)\n",
            "Collecting grpcio>=1.34.0\n",
            "  Downloading grpcio-1.46.3-cp37-cp37m-manylinux_2_17_x86_64.manylinux2014_x86_64.whl (4.4 MB)\n",
            "\u001b[K     |████████████████████████████████| 4.4 MB 56.8 MB/s \n",
            "\u001b[?25hRequirement already satisfied: MarkupSafe>=0.23 in /usr/local/lib/python3.7/dist-packages (from Jinja2>=2.0.0->feast[redis]==0.18.1->feast-azure-provider) (2.0.1)\n",
            "Collecting PyJWT[crypto]<3,>=1.0.0\n",
            "  Downloading PyJWT-2.4.0-py3-none-any.whl (18 kB)\n",
            "Collecting portalocker<3,>=1.0\n",
            "  Downloading portalocker-2.4.0-py2.py3-none-any.whl (16 kB)\n",
            "Requirement already satisfied: requests-oauthlib>=0.5.0 in /usr/local/lib/python3.7/dist-packages (from msrest>=0.6.21->azure-storage-blob>=0.37.0->feast-azure-provider) (1.3.1)\n",
            "Collecting isodate>=0.6.0\n",
            "  Downloading isodate-0.6.1-py2.py3-none-any.whl (41 kB)\n",
            "\u001b[K     |████████████████████████████████| 41 kB 749 kB/s \n",
            "\u001b[?25hRequirement already satisfied: certifi>=2017.4.17 in /usr/local/lib/python3.7/dist-packages (from msrest>=0.6.21->azure-storage-blob>=0.37.0->feast-azure-provider) (2021.10.8)\n",
            "Requirement already satisfied: pyparsing!=3.0.5,>=2.0.2 in /usr/local/lib/python3.7/dist-packages (from packaging>=14.3->google-api-core>=1.23.0->feast[redis]==0.18.1->feast-azure-provider) (3.0.9)\n",
            "Requirement already satisfied: pyasn1<0.5.0,>=0.4.6 in /usr/local/lib/python3.7/dist-packages (from pyasn1-modules>=0.2.1->google-auth<2.0dev,>=1.25.0->google-api-core>=1.23.0->feast[redis]==0.18.1->feast-azure-provider) (0.4.8)\n",
            "Collecting deprecated>=1.2.3\n",
            "  Downloading Deprecated-1.2.13-py2.py3-none-any.whl (9.6 kB)\n",
            "Collecting async-timeout>=4.0.2\n",
            "  Downloading async_timeout-4.0.2-py3-none-any.whl (5.8 kB)\n",
            "Requirement already satisfied: wrapt<2,>=1.10 in /usr/local/lib/python3.7/dist-packages (from deprecated>=1.2.3->redis>=4.1.0->feast[redis]==0.18.1->feast-azure-provider) (1.14.1)\n",
            "Requirement already satisfied: zipp>=0.5 in /usr/local/lib/python3.7/dist-packages (from importlib-metadata->Click==8.*->feast[redis]==0.18.1->feast-azure-provider) (3.8.0)\n",
            "Requirement already satisfied: urllib3!=1.25.0,!=1.25.1,<1.26,>=1.21.1 in /usr/local/lib/python3.7/dist-packages (from requests>=2.18.4->azure-core<2.0.0,>=1.11.0->azure-identity>=1.6.1->feast-azure-provider) (1.24.3)\n",
            "Requirement already satisfied: chardet<4,>=3.0.2 in /usr/local/lib/python3.7/dist-packages (from requests>=2.18.4->azure-core<2.0.0,>=1.11.0->azure-identity>=1.6.1->feast-azure-provider) (3.0.4)\n",
            "Requirement already satisfied: oauthlib>=3.0.0 in /usr/local/lib/python3.7/dist-packages (from requests-oauthlib>=0.5.0->msrest>=0.6.21->azure-storage-blob>=0.37.0->feast-azure-provider) (3.2.0)\n",
            "Requirement already satisfied: greenlet!=0.4.17 in /usr/local/lib/python3.7/dist-packages (from SQLAlchemy>=1.4.19->feast-azure-provider) (1.1.2)\n",
            "Requirement already satisfied: absl-py<2.0.0,>=0.9 in /usr/local/lib/python3.7/dist-packages (from tensorflow-metadata<2.0.0,>=1.0.0->feast[redis]==0.18.1->feast-azure-provider) (1.0.0)\n",
            "Collecting h11>=0.8\n",
            "  Downloading h11-0.13.0-py3-none-any.whl (58 kB)\n",
            "\u001b[K     |████████████████████████████████| 58 kB 7.4 MB/s \n",
            "\u001b[?25hCollecting asgiref>=3.4.0\n",
            "  Downloading asgiref-3.5.2-py3-none-any.whl (22 kB)\n",
            "Collecting watchgod>=0.6\n",
            "  Downloading watchgod-0.8.2-py3-none-any.whl (12 kB)\n",
            "Collecting websockets>=10.0\n",
            "  Downloading websockets-10.3-cp37-cp37m-manylinux_2_5_x86_64.manylinux1_x86_64.manylinux_2_12_x86_64.manylinux2010_x86_64.whl (112 kB)\n",
            "\u001b[K     |████████████████████████████████| 112 kB 69.3 MB/s \n",
            "\u001b[?25hCollecting httptools>=0.4.0\n",
            "  Downloading httptools-0.4.0-cp37-cp37m-manylinux_2_5_x86_64.manylinux1_x86_64.manylinux_2_12_x86_64.manylinux2010_x86_64.whl (406 kB)\n",
            "\u001b[K     |████████████████████████████████| 406 kB 85.2 MB/s \n",
            "\u001b[?25hCollecting python-dotenv>=0.13\n",
            "  Downloading python_dotenv-0.20.0-py3-none-any.whl (17 kB)\n",
            "Collecting uvloop!=0.15.0,!=0.15.1,>=0.14.0\n",
            "  Downloading uvloop-0.16.0-cp37-cp37m-manylinux_2_12_x86_64.manylinux2010_x86_64.whl (3.8 MB)\n",
            "\u001b[K     |████████████████████████████████| 3.8 MB 46.2 MB/s \n",
            "\u001b[?25hCollecting azure-mgmt-keyvault<10.0.0,>=0.40.0\n",
            "  Downloading azure_mgmt_keyvault-9.3.0-py2.py3-none-any.whl (412 kB)\n",
            "\u001b[K     |████████████████████████████████| 412 kB 67.8 MB/s \n",
            "\u001b[?25hCollecting paramiko<3.0.0,>=2.0.8\n",
            "  Downloading paramiko-2.11.0-py2.py3-none-any.whl (212 kB)\n",
            "\u001b[K     |████████████████████████████████| 212 kB 64.6 MB/s \n",
            "\u001b[?25hCollecting msrestazure<=0.6.4,>=0.4.33\n",
            "  Downloading msrestazure-0.6.4-py2.py3-none-any.whl (40 kB)\n",
            "\u001b[K     |████████████████████████████████| 40 kB 6.3 MB/s \n",
            "\u001b[?25hCollecting pyopenssl<23.0.0\n",
            "  Downloading pyOpenSSL-22.0.0-py2.py3-none-any.whl (55 kB)\n",
            "\u001b[K     |████████████████████████████████| 55 kB 5.3 MB/s \n",
            "\u001b[?25hCollecting azure-mgmt-containerregistry<10,>=8.2.0\n",
            "  Downloading azure_mgmt_containerregistry-9.1.0-py3-none-any.whl (1.1 MB)\n",
            "\u001b[K     |████████████████████████████████| 1.1 MB 52.1 MB/s \n",
            "\u001b[?25hCollecting ndg-httpsclient<=0.5.1\n",
            "  Downloading ndg_httpsclient-0.5.1-py3-none-any.whl (34 kB)\n",
            "Collecting jsonpickle<3.0.0\n",
            "  Downloading jsonpickle-2.2.0-py2.py3-none-any.whl (39 kB)\n",
            "Collecting jmespath<1.0.0\n",
            "  Downloading jmespath-0.10.0-py2.py3-none-any.whl (24 kB)\n",
            "Collecting azureml-core\n",
            "  Downloading azureml_core-1.41.0.post2-py3-none-any.whl (2.7 MB)\n",
            "\u001b[K     |████████████████████████████████| 2.7 MB 43.2 MB/s \n",
            "\u001b[?25h  Downloading azureml_core-1.41.0.post1-py3-none-any.whl (2.7 MB)\n",
            "\u001b[K     |████████████████████████████████| 2.7 MB 41.4 MB/s \n",
            "\u001b[?25hCollecting msal-extensions<2.0.0,>=0.3.0\n",
            "  Downloading msal_extensions-0.3.1-py2.py3-none-any.whl (18 kB)\n",
            "Collecting azure-mgmt-resource<21.0.0,>=15.0.0\n",
            "  Downloading azure_mgmt_resource-20.1.0-py3-none-any.whl (2.3 MB)\n",
            "\u001b[K     |████████████████████████████████| 2.3 MB 44.9 MB/s \n",
            "\u001b[?25hCollecting cryptography>=2.5\n",
            "  Downloading cryptography-36.0.2-cp36-abi3-manylinux_2_24_x86_64.whl (3.6 MB)\n",
            "\u001b[K     |████████████████████████████████| 3.6 MB 41.5 MB/s \n",
            "\u001b[?25hCollecting humanfriendly<11.0,>=4.7\n",
            "  Downloading humanfriendly-10.0-py2.py3-none-any.whl (86 kB)\n",
            "\u001b[K     |████████████████████████████████| 86 kB 6.5 MB/s \n",
            "\u001b[?25hCollecting adal<=1.2.7,>=1.2.0\n",
            "  Downloading adal-1.2.7-py2.py3-none-any.whl (55 kB)\n",
            "\u001b[K     |████████████████████████████████| 55 kB 4.5 MB/s \n",
            "\u001b[?25hCollecting backports.tempfile\n",
            "  Downloading backports.tempfile-1.0-py2.py3-none-any.whl (4.4 kB)\n",
            "Collecting docker<6.0.0\n",
            "  Downloading docker-5.0.3-py2.py3-none-any.whl (146 kB)\n",
            "\u001b[K     |████████████████████████████████| 146 kB 63.9 MB/s \n",
            "\u001b[?25hCollecting pkginfo\n",
            "  Downloading pkginfo-1.8.2-py2.py3-none-any.whl (26 kB)\n",
            "Collecting argcomplete<3\n",
            "  Downloading argcomplete-2.0.0-py2.py3-none-any.whl (37 kB)\n",
            "Requirement already satisfied: contextlib2<22.0.0 in /usr/local/lib/python3.7/dist-packages (from azureml-core) (0.5.5)\n",
            "Collecting azure-graphrbac<1.0.0,>=0.40.0\n",
            "  Downloading azure_graphrbac-0.61.1-py2.py3-none-any.whl (141 kB)\n",
            "\u001b[K     |████████████████████████████████| 141 kB 80.6 MB/s \n",
            "\u001b[?25hCollecting azure-mgmt-authorization<3,>=0.40.0\n",
            "  Downloading azure_mgmt_authorization-2.0.0-py2.py3-none-any.whl (465 kB)\n",
            "\u001b[K     |████████████████████████████████| 465 kB 74.7 MB/s \n",
            "\u001b[?25hCollecting SecretStorage<4.0.0\n",
            "  Downloading SecretStorage-3.3.2-py3-none-any.whl (15 kB)\n",
            "Collecting pathspec<1.0.0\n",
            "  Downloading pathspec-0.9.0-py2.py3-none-any.whl (31 kB)\n",
            "Collecting knack~=0.9.0\n",
            "  Downloading knack-0.9.0-py3-none-any.whl (59 kB)\n",
            "\u001b[K     |████████████████████████████████| 59 kB 8.1 MB/s \n",
            "\u001b[?25hCollecting azure-mgmt-storage<20.0.0,>=16.0.0\n",
            "  Downloading azure_mgmt_storage-19.1.0-py3-none-any.whl (1.8 MB)\n",
            "\u001b[K     |████████████████████████████████| 1.8 MB 53.8 MB/s \n",
            "\u001b[?25hCollecting azure-common<2.0.0,>=1.1.12\n",
            "  Downloading azure_common-1.1.28-py2.py3-none-any.whl (14 kB)\n",
            "Collecting azure-mgmt-core<2.0.0,>=1.2.0\n",
            "  Downloading azure_mgmt_core-1.3.0-py2.py3-none-any.whl (25 kB)\n",
            "Collecting websocket-client>=0.32.0\n",
            "  Downloading websocket_client-1.3.2-py3-none-any.whl (54 kB)\n",
            "\u001b[K     |████████████████████████████████| 54 kB 3.5 MB/s \n",
            "\u001b[?25hRequirement already satisfied: pygments in /usr/local/lib/python3.7/dist-packages (from knack~=0.9.0->azureml-core) (2.6.1)\n",
            "Collecting bcrypt>=3.1.3\n",
            "  Downloading bcrypt-3.2.2-cp36-abi3-manylinux_2_17_x86_64.manylinux2014_x86_64.manylinux_2_24_x86_64.whl (62 kB)\n",
            "\u001b[K     |████████████████████████████████| 62 kB 1.0 MB/s \n",
            "\u001b[?25hCollecting pynacl>=1.0.1\n",
            "  Downloading PyNaCl-1.5.0-cp36-abi3-manylinux_2_17_x86_64.manylinux2014_x86_64.manylinux_2_24_x86_64.whl (856 kB)\n",
            "\u001b[K     |████████████████████████████████| 856 kB 62.5 MB/s \n",
            "\u001b[?25hRequirement already satisfied: PySocks!=1.5.7,>=1.5.6 in /usr/local/lib/python3.7/dist-packages (from requests>=2.18.4->azure-core<2.0.0,>=1.11.0->azure-identity>=1.6.1->feast-azure-provider) (1.7.1)\n",
            "Collecting jeepney>=0.6\n",
            "  Downloading jeepney-0.8.0-py3-none-any.whl (48 kB)\n",
            "\u001b[K     |████████████████████████████████| 48 kB 6.5 MB/s \n",
            "\u001b[?25hCollecting backports.weakref\n",
            "  Downloading backports.weakref-1.0.post1-py2.py3-none-any.whl (5.2 kB)\n",
            "Requirement already satisfied: importlib-resources>=1.4.0 in /usr/local/lib/python3.7/dist-packages (from jsonschema->feast[redis]==0.18.1->feast-azure-provider) (5.7.1)\n",
            "Requirement already satisfied: attrs>=17.4.0 in /usr/local/lib/python3.7/dist-packages (from jsonschema->feast[redis]==0.18.1->feast-azure-provider) (21.4.0)\n",
            "Requirement already satisfied: pyrsistent!=0.17.0,!=0.17.1,!=0.17.2,>=0.14.0 in /usr/local/lib/python3.7/dist-packages (from jsonschema->feast[redis]==0.18.1->feast-azure-provider) (0.18.1)\n",
            "Building wheels for collected packages: pandavro, pyodbc\n",
            "  Building wheel for pandavro (setup.py) ... \u001b[?25l\u001b[?25hdone\n",
            "  Created wheel for pandavro: filename=pandavro-1.5.2-py3-none-any.whl size=2953 sha256=49af8d2b3ee78f62914492c54fcdc92392cb102612ac9efbffc443fd44e0125f\n",
            "  Stored in directory: /root/.cache/pip/wheels/33/3f/96/9f1b46a9f7f6043ff4741b1aa1a7b249ba33be4dc1d08843e4\n",
            "  Building wheel for pyodbc (setup.py) ... \u001b[?25l\u001b[?25hdone\n",
            "  Created wheel for pyodbc: filename=pyodbc-4.0.32-cp37-cp37m-linux_x86_64.whl size=287315 sha256=56e1fdcff7d543241c9cb9b07ecbddcba5b010df7a11f5bdfca75ff1e5d10459\n",
            "  Stored in directory: /root/.cache/pip/wheels/2e/9c/da/8652fd42e0f662015554f00a9e96fe4f438dfd1ef59787879e\n",
            "Successfully built pandavro pyodbc\n",
            "Installing collected packages: sniffio, PyJWT, h11, cryptography, Click, asgiref, anyio, websockets, watchgod, uvloop, uvicorn, starlette, PyYAML, python-dotenv, pydantic, isodate, httptools, grpcio, googleapis-common-protos, fastavro, toml, proto-plus, portalocker, pandavro, msrest, msal, mmh3, grpcio-reflection, fastapi, deprecated, colorama, azure-core, async-timeout, adal, websocket-client, redis, pyopenssl, pynacl, msrestazure, msal-extensions, jmespath, jeepney, hiredis, feast, bcrypt, backports.weakref, azure-mgmt-core, azure-common, argcomplete, SecretStorage, pyodbc, pkginfo, pathspec, paramiko, ndg-httpsclient, knack, jsonpickle, humanfriendly, docker, backports.tempfile, azure-storage-blob, azure-mgmt-storage, azure-mgmt-resource, azure-mgmt-keyvault, azure-mgmt-containerregistry, azure-mgmt-authorization, azure-identity, azure-graphrbac, feast-azure-provider, azureml-core\n",
            "  Attempting uninstall: Click\n",
            "    Found existing installation: click 7.1.2\n",
            "    Uninstalling click-7.1.2:\n",
            "      Successfully uninstalled click-7.1.2\n",
            "  Attempting uninstall: PyYAML\n",
            "    Found existing installation: PyYAML 3.13\n",
            "    Uninstalling PyYAML-3.13:\n",
            "      Successfully uninstalled PyYAML-3.13\n",
            "  Attempting uninstall: grpcio\n",
            "    Found existing installation: grpcio 1.46.1\n",
            "    Uninstalling grpcio-1.46.1:\n",
            "      Successfully uninstalled grpcio-1.46.1\n",
            "  Attempting uninstall: googleapis-common-protos\n",
            "    Found existing installation: googleapis-common-protos 1.56.1\n",
            "    Uninstalling googleapis-common-protos-1.56.1:\n",
            "      Successfully uninstalled googleapis-common-protos-1.56.1\n",
            "\u001b[31mERROR: pip's dependency resolver does not currently take into account all the packages that are installed. This behaviour is the source of the following dependency conflicts.\n",
            "tensorflow 2.8.0+zzzcolab20220506162203 requires tf-estimator-nightly==2.8.0.dev2021122109, which is not installed.\n",
            "flask 1.1.4 requires click<8.0,>=5.1, but you have click 8.1.3 which is incompatible.\u001b[0m\n",
            "Successfully installed Click-8.1.3 PyJWT-2.4.0 PyYAML-6.0 SecretStorage-3.3.2 adal-1.2.7 anyio-3.6.1 argcomplete-2.0.0 asgiref-3.5.2 async-timeout-4.0.2 azure-common-1.1.28 azure-core-1.24.0 azure-graphrbac-0.61.1 azure-identity-1.10.0 azure-mgmt-authorization-2.0.0 azure-mgmt-containerregistry-9.1.0 azure-mgmt-core-1.3.0 azure-mgmt-keyvault-9.3.0 azure-mgmt-resource-20.1.0 azure-mgmt-storage-19.1.0 azure-storage-blob-12.12.0 azureml-core-1.41.0.post1 backports.tempfile-1.0 backports.weakref-1.0.post1 bcrypt-3.2.2 colorama-0.4.4 cryptography-36.0.2 deprecated-1.2.13 docker-5.0.3 fastapi-0.78.0 fastavro-1.4.12 feast-0.18.1 feast-azure-provider-0.3.0 googleapis-common-protos-1.52.0 grpcio-1.46.3 grpcio-reflection-1.46.3 h11-0.13.0 hiredis-2.0.0 httptools-0.4.0 humanfriendly-10.0 isodate-0.6.1 jeepney-0.8.0 jmespath-0.10.0 jsonpickle-2.2.0 knack-0.9.0 mmh3-3.0.0 msal-1.17.0 msal-extensions-0.3.1 msrest-0.6.21 msrestazure-0.6.4 ndg-httpsclient-0.5.1 pandavro-1.5.2 paramiko-2.11.0 pathspec-0.9.0 pkginfo-1.8.2 portalocker-2.4.0 proto-plus-1.19.6 pydantic-1.9.1 pynacl-1.5.0 pyodbc-4.0.32 pyopenssl-22.0.0 python-dotenv-0.20.0 redis-4.3.1 sniffio-1.2.0 starlette-0.19.1 toml-0.10.2 uvicorn-0.17.6 uvloop-0.16.0 watchgod-0.8.2 websocket-client-1.3.2 websockets-10.3\n"
          ]
        },
        {
          "output_type": "display_data",
          "data": {
            "application/vnd.colab-display-data+json": {
              "pip_warning": {
                "packages": [
                  "google"
                ]
              }
            }
          },
          "metadata": {}
        }
      ],
      "source": [
        "!pip install pandas feast-azure-provider azureml-core"
      ]
    },
    {
      "cell_type": "markdown",
      "source": [
        "#### Pobranie kodu z repo"
      ],
      "metadata": {
        "id": "CDAQoHv4_Tzu"
      }
    },
    {
      "cell_type": "code",
      "source": [
        "!git clone https://github.com/juskuz/feast-azure-demo-aitech.git"
      ],
      "metadata": {
        "colab": {
          "base_uri": "https://localhost:8080/"
        },
        "id": "jF-Nb498IUCg",
        "outputId": "fe2fc973-1aee-423a-8abe-fb29b001d545"
      },
      "execution_count": 1,
      "outputs": [
        {
          "output_type": "stream",
          "name": "stdout",
          "text": [
            "Cloning into 'feast-azure-demo-aitech'...\n",
            "remote: Enumerating objects: 19, done.\u001b[K\n",
            "remote: Counting objects: 100% (19/19), done.\u001b[K\n",
            "remote: Compressing objects: 100% (15/15), done.\u001b[K\n",
            "remote: Total 19 (delta 0), reused 19 (delta 0), pack-reused 0\u001b[K\n",
            "Unpacking objects: 100% (19/19), done.\n"
          ]
        }
      ]
    },
    {
      "cell_type": "code",
      "source": [
        "!ls"
      ],
      "metadata": {
        "colab": {
          "base_uri": "https://localhost:8080/"
        },
        "id": "JPud5sRAxzw1",
        "outputId": "8c1a7aa9-b38b-4ead-a30b-b0309816f275"
      },
      "execution_count": 2,
      "outputs": [
        {
          "output_type": "stream",
          "name": "stdout",
          "text": [
            "feast-azure-demo-aitech  sample_data\n"
          ]
        }
      ]
    },
    {
      "cell_type": "markdown",
      "source": [
        "#### Wygenerowanie danych"
      ],
      "metadata": {
        "id": "WOH5Czvp_ZuB"
      }
    },
    {
      "cell_type": "code",
      "source": [
        "!ls feast-azure-demo-aitech/data_utils/"
      ],
      "metadata": {
        "colab": {
          "base_uri": "https://localhost:8080/"
        },
        "id": "MGuey2-tyI1O",
        "outputId": "4602e596-4e14-4894-a2fb-d70bb8e6a5b1"
      },
      "execution_count": 3,
      "outputs": [
        {
          "output_type": "stream",
          "name": "stdout",
          "text": [
            "generator.py  load_data.py\n"
          ]
        }
      ]
    },
    {
      "cell_type": "code",
      "source": [
        "!python feast-azure-demo-aitech/data_utils/generator.py "
      ],
      "metadata": {
        "colab": {
          "base_uri": "https://localhost:8080/"
        },
        "id": "kKCZun1IyYa3",
        "outputId": "d39f4241-93c3-41a8-bd12-0da509d01294"
      },
      "execution_count": 4,
      "outputs": [
        {
          "output_type": "stream",
          "name": "stdout",
          "text": [
            "INFO:root:Generating synthetic data from 2022-05-13 to 2022-05-27 for 1000 players...\n",
            "INFO:root:252750 stats rows generated\n",
            "INFO:root:34003 payments rows generated\n",
            "INFO:root:Saving data to /data\n"
          ]
        }
      ]
    },
    {
      "cell_type": "markdown",
      "source": [
        "#### Stworzenie zasobów Azure"
      ],
      "metadata": {
        "id": "1kSKLXd-_fiE"
      }
    },
    {
      "cell_type": "code",
      "source": [
        "# won't work (az not found)\n",
        "!az ad signed-in-user show --query objectId -o tsv"
      ],
      "metadata": {
        "colab": {
          "base_uri": "https://localhost:8080/"
        },
        "id": "qWSs5oBw2bOC",
        "outputId": "5dde28e0-fb76-434e-fd05-fa13f033c01f"
      },
      "execution_count": 5,
      "outputs": [
        {
          "output_type": "stream",
          "name": "stdout",
          "text": [
            "/bin/bash: az: command not found\n"
          ]
        }
      ]
    },
    {
      "cell_type": "code",
      "source": [
        "# install Azure CLI for Linux (Debian)\n",
        "!curl -sL https://aka.ms/InstallAzureCLIDeb | sudo bash"
      ],
      "metadata": {
        "colab": {
          "base_uri": "https://localhost:8080/"
        },
        "id": "XVQH0ObBm32F",
        "outputId": "1113bbbb-f56a-4bc7-f4a4-213eeee702c5"
      },
      "execution_count": 7,
      "outputs": [
        {
          "output_type": "stream",
          "name": "stdout",
          "text": [
            "\r0% [Working]\r            \rGet:1 https://cloud.r-project.org/bin/linux/ubuntu bionic-cran40/ InRelease [3,626 B]\n",
            "Hit:2 https://developer.download.nvidia.com/compute/cuda/repos/ubuntu1804/x86_64  InRelease\n",
            "Hit:3 http://ppa.launchpad.net/c2d4u.team/c2d4u4.0+/ubuntu bionic InRelease\n",
            "Get:4 http://security.ubuntu.com/ubuntu bionic-security InRelease [88.7 kB]\n",
            "Ign:5 https://developer.download.nvidia.com/compute/machine-learning/repos/ubuntu1804/x86_64  InRelease\n",
            "Hit:6 https://developer.download.nvidia.com/compute/machine-learning/repos/ubuntu1804/x86_64  Release\n",
            "Hit:8 http://archive.ubuntu.com/ubuntu bionic InRelease\n",
            "Hit:9 http://ppa.launchpad.net/cran/libgit2/ubuntu bionic InRelease\n",
            "Get:10 http://archive.ubuntu.com/ubuntu bionic-updates InRelease [88.7 kB]\n",
            "Hit:11 http://ppa.launchpad.net/deadsnakes/ppa/ubuntu bionic InRelease\n",
            "Get:12 http://security.ubuntu.com/ubuntu bionic-security/main amd64 Packages [2,765 kB]\n",
            "Get:13 http://archive.ubuntu.com/ubuntu bionic-backports InRelease [74.6 kB]\n",
            "Get:14 http://ppa.launchpad.net/graphics-drivers/ppa/ubuntu bionic InRelease [21.3 kB]\n",
            "Get:15 http://archive.ubuntu.com/ubuntu bionic-updates/universe amd64 Packages [2,277 kB]\n",
            "Get:16 http://ppa.launchpad.net/graphics-drivers/ppa/ubuntu bionic/main amd64 Packages [44.3 kB]\n",
            "Get:17 http://security.ubuntu.com/ubuntu bionic-security/restricted amd64 Packages [932 kB]\n",
            "Get:18 http://security.ubuntu.com/ubuntu bionic-security/universe amd64 Packages [1,503 kB]\n",
            "Get:19 http://security.ubuntu.com/ubuntu bionic-security/multiverse amd64 Packages [22.8 kB]\n",
            "Get:20 http://archive.ubuntu.com/ubuntu bionic-updates/main amd64 Packages [3,199 kB]\n",
            "Get:21 http://archive.ubuntu.com/ubuntu bionic-updates/restricted amd64 Packages [966 kB]\n",
            "Get:22 http://archive.ubuntu.com/ubuntu bionic-updates/multiverse amd64 Packages [29.8 kB]\n",
            "Fetched 12.0 MB in 4s (3,125 kB/s)\n",
            "Reading package lists... Done\n",
            "Reading package lists... Done\n",
            "Building dependency tree       \n",
            "Reading state information... Done\n",
            "lsb-release is already the newest version (9.20170808ubuntu1).\n",
            "lsb-release set to manually installed.\n",
            "curl is already the newest version (7.58.0-2ubuntu3.18).\n",
            "gnupg is already the newest version (2.2.4-1ubuntu1.4).\n",
            "gnupg set to manually installed.\n",
            "The following package was automatically installed and is no longer required:\n",
            "  libnvidia-common-460\n",
            "Use 'apt autoremove' to remove it.\n",
            "The following NEW packages will be installed:\n",
            "  apt-transport-https\n",
            "0 upgraded, 1 newly installed, 0 to remove and 47 not upgraded.\n",
            "Need to get 4,348 B of archives.\n",
            "After this operation, 154 kB of additional disk space will be used.\n",
            "Get:1 http://archive.ubuntu.com/ubuntu bionic-updates/universe amd64 apt-transport-https all 1.6.14 [4,348 B]\n",
            "Fetched 4,348 B in 0s (9,631 B/s)\n",
            "Selecting previously unselected package apt-transport-https.\n",
            "(Reading database ... 155629 files and directories currently installed.)\n",
            "Preparing to unpack .../apt-transport-https_1.6.14_all.deb ...\n",
            "Unpacking apt-transport-https (1.6.14) ...\n",
            "Setting up apt-transport-https (1.6.14) ...\n",
            "Get:1 https://packages.microsoft.com/repos/azure-cli bionic InRelease [3,965 B]\n",
            "Hit:2 https://cloud.r-project.org/bin/linux/ubuntu bionic-cran40/ InRelease\n",
            "Hit:3 https://developer.download.nvidia.com/compute/cuda/repos/ubuntu1804/x86_64  InRelease\n",
            "Get:4 https://packages.microsoft.com/repos/azure-cli bionic/main amd64 Packages [17.8 kB]\n",
            "Ign:5 https://developer.download.nvidia.com/compute/machine-learning/repos/ubuntu1804/x86_64  InRelease\n",
            "Hit:6 https://developer.download.nvidia.com/compute/machine-learning/repos/ubuntu1804/x86_64  Release\n",
            "Hit:7 http://archive.ubuntu.com/ubuntu bionic InRelease\n",
            "Hit:8 http://ppa.launchpad.net/c2d4u.team/c2d4u4.0+/ubuntu bionic InRelease\n",
            "Hit:10 http://security.ubuntu.com/ubuntu bionic-security InRelease\n",
            "Hit:11 http://archive.ubuntu.com/ubuntu bionic-updates InRelease\n",
            "Hit:12 http://archive.ubuntu.com/ubuntu bionic-backports InRelease\n",
            "Hit:13 http://ppa.launchpad.net/cran/libgit2/ubuntu bionic InRelease\n",
            "Hit:14 http://ppa.launchpad.net/deadsnakes/ppa/ubuntu bionic InRelease\n",
            "Hit:15 http://ppa.launchpad.net/graphics-drivers/ppa/ubuntu bionic InRelease\n",
            "Fetched 21.7 kB in 2s (11.5 kB/s)\n",
            "Reading package lists... Done\n",
            "Reading package lists... Done\n",
            "Building dependency tree       \n",
            "Reading state information... Done\n",
            "The following package was automatically installed and is no longer required:\n",
            "  libnvidia-common-460\n",
            "Use 'apt autoremove' to remove it.\n",
            "The following NEW packages will be installed:\n",
            "  azure-cli\n",
            "0 upgraded, 1 newly installed, 0 to remove and 47 not upgraded.\n",
            "Need to get 74.6 MB of archives.\n",
            "After this operation, 1,085 MB of additional disk space will be used.\n",
            "Get:1 https://packages.microsoft.com/repos/azure-cli bionic/main amd64 azure-cli all 2.36.0-1~bionic [74.6 MB]\n",
            "Fetched 74.6 MB in 1s (55.3 MB/s)\n",
            "Selecting previously unselected package azure-cli.\n",
            "(Reading database ... 155633 files and directories currently installed.)\n",
            "Preparing to unpack .../azure-cli_2.36.0-1~bionic_all.deb ...\n",
            "Unpacking azure-cli (2.36.0-1~bionic) ...\n",
            "Setting up azure-cli (2.36.0-1~bionic) ...\n"
          ]
        }
      ]
    },
    {
      "cell_type": "code",
      "source": [
        "!az ad signed-in-user show --query objectId -o tsv"
      ],
      "metadata": {
        "colab": {
          "base_uri": "https://localhost:8080/"
        },
        "id": "hFhMAt1cXe4E",
        "outputId": "19d1c7ef-e6c9-4781-8a50-7ee8f26839ed"
      },
      "execution_count": 8,
      "outputs": [
        {
          "output_type": "stream",
          "name": "stdout",
          "text": [
            "\u001b[93mThe underlying Active Directory Graph API will be replaced by Microsoft Graph API in Azure CLI 2.37.0. Please carefully review all breaking changes introduced during this migration: https://docs.microsoft.com/cli/azure/microsoft-graph-migration\u001b[0m\n",
            "\u001b[91mPlease run 'az login' to setup account.\u001b[0m\n"
          ]
        }
      ]
    },
    {
      "cell_type": "code",
      "source": [
        "# logowanie do Azure za pomocą Azure CLI\n",
        "!az login --allow-no-subscriptions --tenant <paste_here_tenant_id>\n"
      ],
      "metadata": {
        "id": "-z88DIhunSzI"
      },
      "execution_count": null,
      "outputs": []
    },
    {
      "cell_type": "code",
      "source": [
        "# wyświetl szczegóły dla wybranej subskrypcji\n",
        "!az account show --subscription <paste_here_subscription_id>"
      ],
      "metadata": {
        "id": "jH1syLhknUYh"
      },
      "execution_count": null,
      "outputs": []
    },
    {
      "cell_type": "code",
      "source": [
        "!az ad signed-in-user show --query objectId -o tsv\n"
      ],
      "metadata": {
        "colab": {
          "base_uri": "https://localhost:8080/"
        },
        "id": "0Ou-Mi1kfYme",
        "outputId": "c6e3276b-71bc-4879-8796-bb8272a21024"
      },
      "execution_count": 11,
      "outputs": [
        {
          "output_type": "stream",
          "name": "stdout",
          "text": [
            "\u001b[93mThe underlying Active Directory Graph API will be replaced by Microsoft Graph API in Azure CLI 2.37.0. Please carefully review all breaking changes introduced during this migration: https://docs.microsoft.com/cli/azure/microsoft-graph-migration\u001b[0m\n",
            "__xxxxxxxxxxxxxxxxxxx__\n"
          ]
        }
      ]
    },
    {
      "cell_type": "markdown",
      "source": [
        "Należy utworzyć zasoby Azure (przez Azure CLI lub Azure Portal). Można wykorzystać template."
      ],
      "metadata": {
        "id": "bKHdvRnl_5Qp"
      }
    },
    {
      "cell_type": "markdown",
      "source": [
        "#### Załadowanie danych do Synapse (offline store)"
      ],
      "metadata": {
        "id": "eRCrQMmV_7Sx"
      }
    },
    {
      "cell_type": "markdown",
      "source": [
        "Po utworzeniu zasobów należy załadować dane na DataLake (np. używając Synapse), a następnie załadować do bazy (*load_data.py*). Przed uruchomieniem *load_data* należy zaktualizować konfigurację. Zamiast uruchamiać skrypt *load_data.py* można także ręcznie uruchomić zapytania SQL. Skrypt do wykonania z poziomu Synapse/ portalu Azure znajduje się w pliku *load_data.sql*.\n",
        "\n"
      ],
      "metadata": {
        "id": "S6BCY2C2pBfp"
      }
    },
    {
      "cell_type": "markdown",
      "source": [
        "Instalacja ODBC: - opcjonalnie, tylko jeśli używamy *load_data.py*."
      ],
      "metadata": {
        "id": "_sYZFWp97B4I"
      }
    },
    {
      "cell_type": "code",
      "source": [
        "!curl https://packages.microsoft.com/keys/microsoft.asc | apt-key add -\n",
        "\n",
        "!curl https://packages.microsoft.com/config/ubuntu/$(lsb_release -rs)/prod.list > /etc/apt/sources.list.d/mssql-release.list\n",
        "\n",
        "!sudo apt-get update\n",
        "!sudo ACCEPT_EULA=Y apt-get install -y msodbcsql17"
      ],
      "metadata": {
        "colab": {
          "base_uri": "https://localhost:8080/"
        },
        "id": "EEL7zP2opBMR",
        "outputId": "610f5a63-6d14-4d04-ad98-4b7bf4654116"
      },
      "execution_count": 12,
      "outputs": [
        {
          "output_type": "stream",
          "name": "stdout",
          "text": [
            "  % Total    % Received % Xferd  Average Speed   Time    Time     Time  Current\n",
            "                                 Dload  Upload   Total   Spent    Left  Speed\n",
            "\r  0     0    0     0    0     0      0      0 --:--:-- --:--:-- --:--:--     0\r  0     0    0     0    0     0      0      0 --:--:-- --:--:-- --:--:--     0\r100   983  100   983    0     0   7123      0 --:--:-- --:--:-- --:--:--  7071\n",
            "OK\n",
            "  % Total    % Received % Xferd  Average Speed   Time    Time     Time  Current\n",
            "                                 Dload  Upload   Total   Spent    Left  Speed\n",
            "100    77  100    77    0     0   1013      0 --:--:-- --:--:-- --:--:--  1013\n",
            "Hit:1 https://packages.microsoft.com/repos/azure-cli bionic InRelease\n",
            "Hit:2 https://developer.download.nvidia.com/compute/cuda/repos/ubuntu1804/x86_64  InRelease\n",
            "Get:3 https://packages.microsoft.com/ubuntu/18.04/prod bionic InRelease [4,003 B]\n",
            "Hit:4 https://cloud.r-project.org/bin/linux/ubuntu bionic-cran40/ InRelease\n",
            "Get:5 https://packages.microsoft.com/ubuntu/18.04/prod bionic/main amd64 Packages [284 kB]\n",
            "Ign:6 https://developer.download.nvidia.com/compute/machine-learning/repos/ubuntu1804/x86_64  InRelease\n",
            "Hit:7 http://security.ubuntu.com/ubuntu bionic-security InRelease\n",
            "Hit:8 http://ppa.launchpad.net/c2d4u.team/c2d4u4.0+/ubuntu bionic InRelease\n",
            "Hit:9 https://developer.download.nvidia.com/compute/machine-learning/repos/ubuntu1804/x86_64  Release\n",
            "Hit:10 http://archive.ubuntu.com/ubuntu bionic InRelease\n",
            "Hit:12 http://archive.ubuntu.com/ubuntu bionic-updates InRelease\n",
            "Hit:13 http://ppa.launchpad.net/cran/libgit2/ubuntu bionic InRelease\n",
            "Hit:14 http://archive.ubuntu.com/ubuntu bionic-backports InRelease\n",
            "Hit:15 http://ppa.launchpad.net/deadsnakes/ppa/ubuntu bionic InRelease\n",
            "Hit:16 http://ppa.launchpad.net/graphics-drivers/ppa/ubuntu bionic InRelease\n",
            "Fetched 288 kB in 2s (151 kB/s)\n",
            "Reading package lists... Done\n",
            "Reading package lists... Done\n",
            "Building dependency tree       \n",
            "Reading state information... Done\n",
            "The following package was automatically installed and is no longer required:\n",
            "  libnvidia-common-460\n",
            "Use 'sudo apt autoremove' to remove it.\n",
            "The following additional packages will be installed:\n",
            "  libodbc1 odbcinst odbcinst1debian2 unixodbc unixodbc-dev\n",
            "Suggested packages:\n",
            "  unixodbc-bin\n",
            "The following NEW packages will be installed:\n",
            "  msodbcsql17 unixodbc\n",
            "The following packages will be upgraded:\n",
            "  libodbc1 odbcinst odbcinst1debian2 unixodbc-dev\n",
            "4 upgraded, 2 newly installed, 0 to remove and 47 not upgraded.\n",
            "Need to get 1,458 kB of archives.\n",
            "After this operation, 152 kB of additional disk space will be used.\n",
            "Get:1 https://packages.microsoft.com/ubuntu/18.04/prod bionic/main amd64 odbcinst amd64 2.3.7 [12.0 kB]\n",
            "Get:2 https://packages.microsoft.com/ubuntu/18.04/prod bionic/main amd64 unixodbc-dev amd64 2.3.7 [37.1 kB]\n",
            "Get:3 https://packages.microsoft.com/ubuntu/18.04/prod bionic/main amd64 odbcinst1debian2 amd64 2.3.7 [135 kB]\n",
            "Get:4 https://packages.microsoft.com/ubuntu/18.04/prod bionic/main amd64 libodbc1 amd64 2.3.7 [511 kB]\n",
            "Get:5 https://packages.microsoft.com/ubuntu/18.04/prod bionic/main amd64 unixodbc amd64 2.3.7 [19.6 kB]\n",
            "Get:6 https://packages.microsoft.com/ubuntu/18.04/prod bionic/main amd64 msodbcsql17 amd64 17.9.1.1-1 [744 kB]\n",
            "Fetched 1,458 kB in 0s (8,531 kB/s)\n",
            "debconf: unable to initialize frontend: Dialog\n",
            "debconf: (No usable dialog-like program is installed, so the dialog based frontend cannot be used. at /usr/share/perl5/Debconf/FrontEnd/Dialog.pm line 76, <> line 6.)\n",
            "debconf: falling back to frontend: Readline\n",
            "debconf: unable to initialize frontend: Readline\n",
            "debconf: (This frontend requires a controlling tty.)\n",
            "debconf: falling back to frontend: Teletype\n",
            "dpkg-preconfigure: unable to re-open stdin: \n",
            "(Reading database ... 214613 files and directories currently installed.)\n",
            "Preparing to unpack .../0-odbcinst_2.3.7_amd64.deb ...\n",
            "Unpacking odbcinst (2.3.7) over (2.3.4-1.1ubuntu3) ...\n",
            "Preparing to unpack .../1-unixodbc-dev_2.3.7_amd64.deb ...\n",
            "Unpacking unixodbc-dev (2.3.7) over (2.3.4-1.1ubuntu3) ...\n",
            "Preparing to unpack .../2-odbcinst1debian2_2.3.7_amd64.deb ...\n",
            "Unpacking odbcinst1debian2:amd64 (2.3.7) over (2.3.4-1.1ubuntu3) ...\n",
            "Preparing to unpack .../3-libodbc1_2.3.7_amd64.deb ...\n",
            "Unpacking libodbc1:amd64 (2.3.7) over (2.3.4-1.1ubuntu3) ...\n",
            "Selecting previously unselected package unixodbc.\n",
            "Preparing to unpack .../4-unixodbc_2.3.7_amd64.deb ...\n",
            "Unpacking unixodbc (2.3.7) ...\n",
            "Selecting previously unselected package msodbcsql17.\n",
            "Preparing to unpack .../5-msodbcsql17_17.9.1.1-1_amd64.deb ...\n",
            "debconf: unable to initialize frontend: Dialog\n",
            "debconf: (No usable dialog-like program is installed, so the dialog based frontend cannot be used. at /usr/share/perl5/Debconf/FrontEnd/Dialog.pm line 76.)\n",
            "debconf: falling back to frontend: Readline\n",
            "Unpacking msodbcsql17 (17.9.1.1-1) ...\n",
            "Setting up libodbc1:amd64 (2.3.7) ...\n",
            "Setting up odbcinst1debian2:amd64 (2.3.7) ...\n",
            "Setting up odbcinst (2.3.7) ...\n",
            "Setting up unixodbc (2.3.7) ...\n",
            "Setting up unixodbc-dev (2.3.7) ...\n",
            "Setting up msodbcsql17 (17.9.1.1-1) ...\n",
            "Processing triggers for libc-bin (2.27-3ubuntu1.3) ...\n",
            "/sbin/ldconfig.real: /usr/local/lib/python3.7/dist-packages/ideep4py/lib/libmkldnn.so.0 is not a symbolic link\n",
            "\n",
            "Processing triggers for man-db (2.8.3-2ubuntu0.1) ...\n"
          ]
        }
      ]
    },
    {
      "cell_type": "markdown",
      "source": [
        "Do zaktualizowania konfiguracji możemy użyć pliku *config.json* pobranego z zasobu Azure Machine Learning. Po pobraniu należy go dodać do plików (menu po lewej stronie) oraz sprawdzić poprawność ścieżek w plikach *data_utils/load_data.py* oraz *utils/prepare_feast.py*."
      ],
      "metadata": {
        "id": "fHend-ZJazTD"
      }
    },
    {
      "cell_type": "code",
      "source": [
        "# !python feast-azure-demo-aitech/data_utils/load_data.py\n",
        "# auth error (401)"
      ],
      "metadata": {
        "id": "STGYBED6pBO_"
      },
      "execution_count": 19,
      "outputs": []
    },
    {
      "cell_type": "markdown",
      "source": [
        "W ramach tego demo dane zostaną załadowane ręcznie z poziomu Synaspe. Kolejne kroki wykonywane są podobnie jak we wcześniejszym demo."
      ],
      "metadata": {
        "id": "gvr_54NoCCPL"
      }
    },
    {
      "cell_type": "code",
      "source": [
        "# utworzenie repo\n",
        "!feast init feature_repo"
      ],
      "metadata": {
        "colab": {
          "base_uri": "https://localhost:8080/"
        },
        "id": "_4W2BCI6A8Av",
        "outputId": "53d0d7ca-8bb8-4c44-8d6b-83083ad32492"
      },
      "execution_count": 20,
      "outputs": [
        {
          "output_type": "stream",
          "name": "stdout",
          "text": [
            "Feast is an open source project that collects anonymized error reporting and usage statistics. To opt out or learn more see https://docs.feast.dev/reference/usage\n",
            "\n",
            "Creating a new Feast repository in \u001b[1m\u001b[32m/content/feature_repo\u001b[0m.\n",
            "\n"
          ]
        }
      ]
    },
    {
      "cell_type": "markdown",
      "source": [
        "Po pojawieniu się repo należy usunąć zawartość folderu data w tym repo (feature_repo/data).\n",
        "\n",
        "\n",
        "\n",
        "W pliku feature_store.yaml należy ustawić konfigurację dla Azure Providera:"
      ],
      "metadata": {
        "id": "pq6EXTzCGpDy"
      }
    },
    {
      "cell_type": "code",
      "source": [
        "# zawartosć pliku feature_store.yaml\n",
        "\n",
        "registry:\n",
        "  registry_store_type: feast_azure_provider.registry_store.AzBlobRegistryStore\n",
        "  path: ${REGISTRY_PATH}\n",
        "project: production\n",
        "provider: feast_azure_provider.azure_provider.AzureProvider\n",
        "online_store:\n",
        "    type: redis\n",
        "    connection_string: ${REDIS_CONN}\n",
        "offline_store:\n",
        "    type: feast_azure_provider.mssqlserver.MsSqlServerOfflineStore\n",
        "    connection_string: ${SQL_CONN}"
      ],
      "metadata": {
        "id": "rHQ4Y2YEA76m"
      },
      "execution_count": null,
      "outputs": []
    },
    {
      "cell_type": "markdown",
      "source": [
        "Po zaktualizowaniu tej konfiguracji należy uruchomić skrypt *prepare_feast.py*. Dla ułatwienia to wykonywane z poziomu innego skryptu (*apply_feast.py*). W pliku opisane są m.in cechy, które mają pojawić się w feature store. Należy też pamiętać o dodaniu pliku z konfiguracją zasobów Azure (plik *config.json* do pobrania np. z Azure Machine Learning Studio)"
      ],
      "metadata": {
        "id": "3oC3UXm3LLV3"
      }
    },
    {
      "cell_type": "code",
      "source": [
        "# !python feast-azure-demo-aitech/utils/prepare_feast.py"
      ],
      "metadata": {
        "colab": {
          "base_uri": "https://localhost:8080/"
        },
        "id": "UqLj_9nPpAuW",
        "outputId": "6c7eb19a-622d-4f08-cbec-846aaadcb9c3"
      },
      "execution_count": 21,
      "outputs": [
        {
          "output_type": "stream",
          "name": "stdout",
          "text": [
            "/usr/local/lib/python3.7/dist-packages/azureml/data/dataset_type_definitions.py:69: DeprecationWarning: FileType Enum is Deprecated in > 1.0.39. Use strings instead.\n",
            "  category=DeprecationWarning)\n"
          ]
        }
      ]
    },
    {
      "cell_type": "code",
      "source": [
        "!python feast-azure-demo-aitech/apply_feast.py"
      ],
      "metadata": {
        "colab": {
          "base_uri": "https://localhost:8080/"
        },
        "id": "Yswu9oe6AwHZ",
        "outputId": "eeac9069-0058-4d7b-f690-e6c2e4b7a881"
      },
      "execution_count": 22,
      "outputs": [
        {
          "output_type": "stream",
          "name": "stdout",
          "text": [
            "/usr/local/lib/python3.7/dist-packages/azureml/data/dataset_type_definitions.py:69: DeprecationWarning: FileType Enum is Deprecated in > 1.0.39. Use strings instead.\n",
            "  category=DeprecationWarning)\n",
            "05/20/2022 10:25:23 PM INFO:Found the config file in: /content/feast-azure-demo-aitech/config.json\n",
            "05/20/2022 10:25:28 PM INFO:Created a worker pool for first use\n"
          ]
        }
      ]
    },
    {
      "cell_type": "markdown",
      "source": [
        "Po ustawieniu cech w feature store można sprawdzić zawartość feature store. Przygotowano w tym celu skrypt *show_stores.py*."
      ],
      "metadata": {
        "id": "1bPI8ijJFx3e"
      }
    },
    {
      "cell_type": "code",
      "source": [
        "!python feast-azure-demo-aitech/show_stores.py"
      ],
      "metadata": {
        "colab": {
          "base_uri": "https://localhost:8080/"
        },
        "id": "FPZsiTwhT95U",
        "outputId": "908aefdb-8b27-4f7b-b8e5-1556f8a9deaf"
      },
      "execution_count": 23,
      "outputs": [
        {
          "output_type": "stream",
          "name": "stdout",
          "text": [
            "/usr/local/lib/python3.7/dist-packages/azureml/data/dataset_type_definitions.py:69: DeprecationWarning: FileType Enum is Deprecated in > 1.0.39. Use strings instead.\n",
            "  category=DeprecationWarning)\n",
            "05/20/2022 10:25:48 PM INFO:Found the config file in: /content/feast-azure-demo-aitech/config.json\n",
            "05/20/2022 10:25:52 PM INFO:Created a worker pool for first use\n",
            "\n",
            "----------------------HIST DATA FRAME----------------------\n",
            "SELECT DISTINCT * FROM\n",
            "(     \n",
            "    SELECT player_id, ts FROM stats WHERE player_id in ('01C', 'EKS') \n",
            "    UNION SELECT player_id, ts FROM payments WHERE player_id in ('01C', 'EKS') \n",
            ") res    \n",
            "\n",
            "Using ts as the event timestamp. To specify a column explicitly, please name it event_timestamp.\n",
            "\n",
            "----------------------OFFLINE DATA FRAME PLAYER1----------------------\n",
            "    player_id  ... time_in_game\n",
            "0         01C  ...  2495.968419\n",
            "1         01C  ...  2245.121485\n",
            "3         01C  ...  3227.366002\n",
            "4         01C  ...   132.986827\n",
            "5         01C  ...  1868.502434\n",
            "..        ...  ...          ...\n",
            "587       01C  ...  3043.131598\n",
            "588       01C  ...  1681.292672\n",
            "592       01C  ...   872.732241\n",
            "593       01C  ...  2344.133235\n",
            "594       01C  ...  2472.259627\n",
            "\n",
            "[337 rows x 10 columns]\n",
            "\n",
            "----------------------OFFLINE DATA FRAME PLAYER2----------------------\n",
            "    player_id  ... time_in_game\n",
            "2         EKS  ...  3203.482158\n",
            "6         EKS  ...   572.435969\n",
            "7         EKS  ...  3321.727967\n",
            "8         EKS  ...  2119.977574\n",
            "9         EKS  ...   889.319537\n",
            "..        ...  ...          ...\n",
            "582       EKS  ...  3464.446661\n",
            "583       EKS  ...  2100.115805\n",
            "589       EKS  ...   749.713545\n",
            "590       EKS  ...   289.576099\n",
            "591       EKS  ...  3350.291616\n",
            "\n",
            "[258 rows x 10 columns]\n",
            "\n",
            "----------------------ONLINE DATA FRAME----------------------\n",
            "  player_id  ... time_in_game\n",
            "0       01C  ...         None\n",
            "1       EKS  ...         None\n",
            "\n",
            "[2 rows x 6 columns]\n"
          ]
        }
      ]
    },
    {
      "cell_type": "code",
      "source": [
        "!python feast-azure-demo-aitech/materialize_stores.py"
      ],
      "metadata": {
        "colab": {
          "base_uri": "https://localhost:8080/"
        },
        "id": "tk0rFtgxUOdp",
        "outputId": "45b2bc8f-e6b8-4d4e-8afb-357ced031c39"
      },
      "execution_count": 24,
      "outputs": [
        {
          "output_type": "stream",
          "name": "stdout",
          "text": [
            "/usr/local/lib/python3.7/dist-packages/azureml/data/dataset_type_definitions.py:69: DeprecationWarning: FileType Enum is Deprecated in > 1.0.39. Use strings instead.\n",
            "  category=DeprecationWarning)\n",
            "05/20/2022 10:26:52 PM INFO:Found the config file in: /content/feast-azure-demo-aitech/config.json\n",
            "05/20/2022 10:26:58 PM INFO:Created a worker pool for first use\n",
            "Materializing \u001b[1m\u001b[32m2\u001b[0m feature views from \u001b[1m\u001b[32m2022-05-20 21:27:06+00:00\u001b[0m to \u001b[1m\u001b[32m2022-05-20 22:27:06+00:00\u001b[0m into the \u001b[1m\u001b[32mredis\u001b[0m online store.\n",
            "\n",
            "\u001b[1m\u001b[32mpayments\u001b[0m:\n",
            "0it [00:00, ?it/s]\n",
            "\u001b[1m\u001b[32mstats\u001b[0m:\n",
            "0it [00:00, ?it/s]\n"
          ]
        }
      ]
    },
    {
      "cell_type": "code",
      "source": [
        "!python feast-azure-demo-aitech/show_stores.py"
      ],
      "metadata": {
        "colab": {
          "base_uri": "https://localhost:8080/"
        },
        "id": "P31zA_lfU6F2",
        "outputId": "d2652172-ef62-4da6-e396-a148db200ffe"
      },
      "execution_count": 25,
      "outputs": [
        {
          "output_type": "stream",
          "name": "stdout",
          "text": [
            "/usr/local/lib/python3.7/dist-packages/azureml/data/dataset_type_definitions.py:69: DeprecationWarning: FileType Enum is Deprecated in > 1.0.39. Use strings instead.\n",
            "  category=DeprecationWarning)\n",
            "05/20/2022 10:31:03 PM INFO:Found the config file in: /content/feast-azure-demo-aitech/config.json\n",
            "05/20/2022 10:31:06 PM INFO:Created a worker pool for first use\n",
            "\n",
            "----------------------HIST DATA FRAME----------------------\n",
            "SELECT DISTINCT * FROM\n",
            "(     \n",
            "    SELECT player_id, ts FROM stats WHERE player_id in ('01C', 'EKS') \n",
            "    UNION SELECT player_id, ts FROM payments WHERE player_id in ('01C', 'EKS') \n",
            ") res    \n",
            "\n",
            "Using ts as the event timestamp. To specify a column explicitly, please name it event_timestamp.\n",
            "\n",
            "----------------------OFFLINE DATA FRAME PLAYER1----------------------\n",
            "    player_id  ... time_in_game\n",
            "1         01C  ...  2245.121485\n",
            "3         01C  ...  1335.816468\n",
            "5         01C  ...    20.868911\n",
            "7         01C  ...  1473.485543\n",
            "8         01C  ...  3338.958819\n",
            "..        ...  ...          ...\n",
            "584       01C  ...  3563.220205\n",
            "585       01C  ...  1334.332101\n",
            "590       01C  ...  1716.887934\n",
            "592       01C  ...  3346.316736\n",
            "593       01C  ...  2421.588212\n",
            "\n",
            "[337 rows x 10 columns]\n",
            "\n",
            "----------------------OFFLINE DATA FRAME PLAYER2----------------------\n",
            "    player_id  ... time_in_game\n",
            "0         EKS  ...  2468.575195\n",
            "2         EKS  ...   965.798582\n",
            "4         EKS  ...  1309.362254\n",
            "6         EKS  ...  3156.956408\n",
            "9         EKS  ...  3124.083158\n",
            "..        ...  ...          ...\n",
            "587       EKS  ...  1886.286231\n",
            "588       EKS  ...  1233.687367\n",
            "589       EKS  ...  1564.110407\n",
            "591       EKS  ...   654.542472\n",
            "594       EKS  ...   749.713545\n",
            "\n",
            "[258 rows x 10 columns]\n",
            "\n",
            "----------------------ONLINE DATA FRAME----------------------\n",
            "  player_id  ... time_in_game\n",
            "0       01C  ...         None\n",
            "1       EKS  ...         None\n",
            "\n",
            "[2 rows x 6 columns]\n"
          ]
        }
      ]
    }
  ]
}